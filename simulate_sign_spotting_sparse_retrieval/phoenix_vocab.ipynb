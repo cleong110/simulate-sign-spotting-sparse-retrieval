{
 "cells": [
  {
   "cell_type": "code",
   "execution_count": 1,
   "id": "8d5920fd",
   "metadata": {},
   "outputs": [],
   "source": [
    "import pandas as pd\n",
    "import json"
   ]
  },
  {
   "cell_type": "code",
   "execution_count": 4,
   "id": "e9ac5156",
   "metadata": {},
   "outputs": [
    {
     "data": {
      "text/html": [
       "<div>\n",
       "<style scoped>\n",
       "    .dataframe tbody tr th:only-of-type {\n",
       "        vertical-align: middle;\n",
       "    }\n",
       "\n",
       "    .dataframe tbody tr th {\n",
       "        vertical-align: top;\n",
       "    }\n",
       "\n",
       "    .dataframe thead th {\n",
       "        text-align: right;\n",
       "    }\n",
       "</style>\n",
       "<table border=\"1\" class=\"dataframe\">\n",
       "  <thead>\n",
       "    <tr style=\"text-align: right;\">\n",
       "      <th></th>\n",
       "      <th>doc_id</th>\n",
       "      <th>transcript</th>\n",
       "    </tr>\n",
       "  </thead>\n",
       "  <tbody>\n",
       "    <tr>\n",
       "      <th>0</th>\n",
       "      <td>01April_2010_Thursday_heute_default-0</td>\n",
       "      <td>__ON__ LIEB ZUSCHAUER ABEND WINTER GESTERN loc...</td>\n",
       "    </tr>\n",
       "    <tr>\n",
       "      <th>1</th>\n",
       "      <td>01April_2010_Thursday_heute_default-1</td>\n",
       "      <td>ICH OSTERN WETTER ZUFRIEDEN MITTAG TEMPERATUR ...</td>\n",
       "    </tr>\n",
       "    <tr>\n",
       "      <th>2</th>\n",
       "      <td>01April_2010_Thursday_heute_default-2</td>\n",
       "      <td>loc-WEST WARM loc-WEST BLEIBEN KUEHL</td>\n",
       "    </tr>\n",
       "    <tr>\n",
       "      <th>3</th>\n",
       "      <td>01April_2010_Thursday_heute_default-3</td>\n",
       "      <td>KUEHL KUEHL IN-KOMMEND NACHT MINUS loc-MINUS-P...</td>\n",
       "    </tr>\n",
       "    <tr>\n",
       "      <th>4</th>\n",
       "      <td>01April_2010_Thursday_heute_default-4</td>\n",
       "      <td>MORGEN TEMPERATUR ACHT BIS DREIZEHN MAXIMAL DR...</td>\n",
       "    </tr>\n",
       "    <tr>\n",
       "      <th>...</th>\n",
       "      <td>...</td>\n",
       "      <td>...</td>\n",
       "    </tr>\n",
       "    <tr>\n",
       "      <th>6836</th>\n",
       "      <td>31October_2009_Saturday_tagesschau_default-12</td>\n",
       "      <td>__EMOTION__ IM-VERLAUF BLEIBEN WECHSELHAFT MEH...</td>\n",
       "    </tr>\n",
       "    <tr>\n",
       "      <th>6837</th>\n",
       "      <td>31October_2009_Saturday_tagesschau_default-2</td>\n",
       "      <td>__ON__ MORGEN TIEF KOMMEN loc-NORDWEST loc-REG...</td>\n",
       "    </tr>\n",
       "    <tr>\n",
       "      <th>6838</th>\n",
       "      <td>31October_2009_Saturday_tagesschau_default-4</td>\n",
       "      <td>__ON__ NORD loc-REGION HEUTE NACHT SCHON WOLKE...</td>\n",
       "    </tr>\n",
       "    <tr>\n",
       "      <th>6839</th>\n",
       "      <td>31October_2009_Saturday_tagesschau_default-6</td>\n",
       "      <td>__ON__ AUCH STURM WEHEN WEHEN NORD SEE STURM l...</td>\n",
       "    </tr>\n",
       "    <tr>\n",
       "      <th>6840</th>\n",
       "      <td>31October_2009_Saturday_tagesschau_default-8</td>\n",
       "      <td>__ON__ MOEGLICH HEUTE NACHT FROST GLATT VORSIC...</td>\n",
       "    </tr>\n",
       "  </tbody>\n",
       "</table>\n",
       "<p>6841 rows × 2 columns</p>\n",
       "</div>"
      ],
      "text/plain": [
       "                                             doc_id  \\\n",
       "0             01April_2010_Thursday_heute_default-0   \n",
       "1             01April_2010_Thursday_heute_default-1   \n",
       "2             01April_2010_Thursday_heute_default-2   \n",
       "3             01April_2010_Thursday_heute_default-3   \n",
       "4             01April_2010_Thursday_heute_default-4   \n",
       "...                                             ...   \n",
       "6836  31October_2009_Saturday_tagesschau_default-12   \n",
       "6837   31October_2009_Saturday_tagesschau_default-2   \n",
       "6838   31October_2009_Saturday_tagesschau_default-4   \n",
       "6839   31October_2009_Saturday_tagesschau_default-6   \n",
       "6840   31October_2009_Saturday_tagesschau_default-8   \n",
       "\n",
       "                                             transcript  \n",
       "0     __ON__ LIEB ZUSCHAUER ABEND WINTER GESTERN loc...  \n",
       "1     ICH OSTERN WETTER ZUFRIEDEN MITTAG TEMPERATUR ...  \n",
       "2                  loc-WEST WARM loc-WEST BLEIBEN KUEHL  \n",
       "3     KUEHL KUEHL IN-KOMMEND NACHT MINUS loc-MINUS-P...  \n",
       "4     MORGEN TEMPERATUR ACHT BIS DREIZEHN MAXIMAL DR...  \n",
       "...                                                 ...  \n",
       "6836  __EMOTION__ IM-VERLAUF BLEIBEN WECHSELHAFT MEH...  \n",
       "6837  __ON__ MORGEN TIEF KOMMEN loc-NORDWEST loc-REG...  \n",
       "6838  __ON__ NORD loc-REGION HEUTE NACHT SCHON WOLKE...  \n",
       "6839  __ON__ AUCH STURM WEHEN WEHEN NORD SEE STURM l...  \n",
       "6840  __ON__ MOEGLICH HEUTE NACHT FROST GLATT VORSIC...  \n",
       "\n",
       "[6841 rows x 2 columns]"
      ]
     },
     "execution_count": 4,
     "metadata": {},
     "output_type": "execute_result"
    }
   ],
   "source": [
    "video_transcripts = pd.read_json(path_or_buf=\"phoenix2014_multisigner_segment_transcripts.jsonl\", lines=True)\n",
    "video_transcripts"
   ]
  },
  {
   "cell_type": "code",
   "execution_count": 6,
   "id": "2cbbd430",
   "metadata": {},
   "outputs": [],
   "source": [
    "one_big_transcript = video_transcripts['transcript'].str.cat(sep=' ')"
   ]
  },
  {
   "cell_type": "code",
   "execution_count": 8,
   "id": "aec1d745",
   "metadata": {},
   "outputs": [
    {
     "data": {
      "text/plain": [
       "551659"
      ]
     },
     "execution_count": 8,
     "metadata": {},
     "output_type": "execute_result"
    }
   ],
   "source": [
    "len(one_big_transcript)"
   ]
  },
  {
   "cell_type": "code",
   "execution_count": 11,
   "id": "3856cd1e",
   "metadata": {},
   "outputs": [
    {
     "data": {
      "text/plain": [
       "77271"
      ]
     },
     "execution_count": 11,
     "metadata": {},
     "output_type": "execute_result"
    }
   ],
   "source": [
    "transcript_splitted = one_big_transcript.split()\n",
    "len(transcript_splitted)"
   ]
  },
  {
   "cell_type": "code",
   "execution_count": 12,
   "id": "231c45fc",
   "metadata": {},
   "outputs": [
    {
     "data": {
      "text/plain": [
       "1295"
      ]
     },
     "execution_count": 12,
     "metadata": {},
     "output_type": "execute_result"
    }
   ],
   "source": [
    "vocab_set = set(transcript_splitted)\n",
    "len(vocab_set)\n"
   ]
  },
  {
   "cell_type": "code",
   "execution_count": 13,
   "id": "b3d19b2f",
   "metadata": {},
   "outputs": [
    {
     "data": {
      "text/plain": [
       "1290"
      ]
     },
     "execution_count": 13,
     "metadata": {},
     "output_type": "execute_result"
    }
   ],
   "source": [
    "vocab_set_no_dunders = [word for word in list(vocab_set) if \"__\" not in word]\n",
    "len(vocab_set_no_dunders)\n"
   ]
  },
  {
   "cell_type": "code",
   "execution_count": 14,
   "id": "6c44e399",
   "metadata": {},
   "outputs": [
    {
     "data": {
      "text/plain": [
       "['ZEHN',\n",
       " 'NASE',\n",
       " 'STRASSE',\n",
       " 'LUECKE',\n",
       " 'SUED',\n",
       " 'FUER',\n",
       " 'LETZTE-WOCHE',\n",
       " 'TEMPERATUR-PLUSPLUS',\n",
       " 'NRW',\n",
       " 'ZAHL']"
      ]
     },
     "execution_count": 14,
     "metadata": {},
     "output_type": "execute_result"
    }
   ],
   "source": [
    "import random\n",
    "random.sample(vocab_set_no_dunders, k=10)"
   ]
  },
  {
   "cell_type": "code",
   "execution_count": 15,
   "id": "eda93143",
   "metadata": {},
   "outputs": [
    {
     "data": {
      "text/plain": [
       "['HAVEN',\n",
       " 'NICHT-NAJA',\n",
       " 'FROH',\n",
       " 'GLATTEIS',\n",
       " 'SCHLECHTER',\n",
       " 'MATSCH',\n",
       " 'NICHT-IMMER',\n",
       " 'loc-MINUS-PLUSPLUS',\n",
       " 'BEWEGEN',\n",
       " 'SIEBZIG',\n",
       " 'NICHT-KEIN',\n",
       " 'GEBIRGE',\n",
       " 'DABEI-PLUSPLUS',\n",
       " 'lh-HOCH',\n",
       " 'FREITAG']"
      ]
     },
     "execution_count": 15,
     "metadata": {},
     "output_type": "execute_result"
    }
   ],
   "source": [
    "random.sample(vocab_set_no_dunders, k=15)"
   ]
  },
  {
   "cell_type": "code",
   "execution_count": 16,
   "id": "8ead5ef3",
   "metadata": {},
   "outputs": [
    {
     "data": {
      "text/plain": [
       "['GRUEN',\n",
       " 'AUFZIEHEN',\n",
       " 'FREITAG',\n",
       " 'MINDESTENS',\n",
       " 'FOLGE',\n",
       " 'SEHR',\n",
       " 'NEUNZIG',\n",
       " 'WEHEN-PLUSPLUS',\n",
       " 'REST',\n",
       " 'NICHT-GEMUETLICH']"
      ]
     },
     "execution_count": 16,
     "metadata": {},
     "output_type": "execute_result"
    }
   ],
   "source": [
    "random.sample(vocab_set_no_dunders, k=10)"
   ]
  },
  {
   "cell_type": "code",
   "execution_count": 17,
   "id": "921da70d",
   "metadata": {},
   "outputs": [
    {
     "data": {
      "text/plain": [
       "['SACHSEN',\n",
       " 'AUFTAUCHEN',\n",
       " 'MUND',\n",
       " 'VIERZIG',\n",
       " 'FUENFTE',\n",
       " 'SCHON-WIEDER',\n",
       " 'VERSCHIEDEN',\n",
       " 'NICHT-KOENNEN',\n",
       " 'WIR',\n",
       " 'AEHNLCH']"
      ]
     },
     "execution_count": 17,
     "metadata": {},
     "output_type": "execute_result"
    }
   ],
   "source": [
    "random.sample(vocab_set_no_dunders, k=10)"
   ]
  },
  {
   "cell_type": "code",
   "execution_count": null,
   "id": "a2a9303d",
   "metadata": {},
   "outputs": [],
   "source": []
  }
 ],
 "metadata": {
  "kernelspec": {
   "display_name": ".conda",
   "language": "python",
   "name": "python3"
  },
  "language_info": {
   "codemirror_mode": {
    "name": "ipython",
    "version": 3
   },
   "file_extension": ".py",
   "mimetype": "text/x-python",
   "name": "python",
   "nbconvert_exporter": "python",
   "pygments_lexer": "ipython3",
   "version": "3.11.13"
  }
 },
 "nbformat": 4,
 "nbformat_minor": 5
}
